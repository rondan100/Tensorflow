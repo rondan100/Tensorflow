{
  "nbformat": 4,
  "nbformat_minor": 0,
  "metadata": {
    "colab": {
      "name": "Gradientes.ipynb",
      "provenance": [],
      "collapsed_sections": [],
      "authorship_tag": "ABX9TyOBmqf2L72a0cqWPBRvLIL2",
      "include_colab_link": true
    },
    "kernelspec": {
      "name": "python3",
      "display_name": "Python 3"
    }
  },
  "cells": [
    {
      "cell_type": "markdown",
      "metadata": {
        "id": "view-in-github",
        "colab_type": "text"
      },
      "source": [
        "<a href=\"https://colab.research.google.com/github/rondan100/Tensorflow/blob/master/Gradientes.ipynb\" target=\"_parent\"><img src=\"https://colab.research.google.com/assets/colab-badge.svg\" alt=\"Open In Colab\"/></a>"
      ]
    },
    {
      "cell_type": "code",
      "metadata": {
        "id": "Y1DWU5PRJQyY",
        "colab_type": "code",
        "colab": {}
      },
      "source": [
        "import numpy as np\n",
        "import matplotlib.pyplot as plt\n",
        "\n",
        "import tensorflow as tf"
      ],
      "execution_count": 1,
      "outputs": []
    },
    {
      "cell_type": "code",
      "metadata": {
        "id": "ux9hXeyaJeHQ",
        "colab_type": "code",
        "colab": {}
      },
      "source": [
        "x = tf.Variable(3.0)\n",
        "\n",
        "# Tensorflow registra operações relevantes dentro do contexto  de tf.GradientTape\n",
        "with tf.GradientTape() as tape:\n",
        "  y = x**2"
      ],
      "execution_count": 16,
      "outputs": []
    },
    {
      "cell_type": "code",
      "metadata": {
        "id": "APefUKgwJ162",
        "colab_type": "code",
        "colab": {}
      },
      "source": [
        "# dy = 2x * dx ----> derivada de y\n",
        "dy_dx = tape.gradient(y, x)\n",
        "# O uso de tape.gradient deriva a função y em relação a x e calcula:\n",
        "# x = 2 -----> y=2x ---> dy_dx = 2*3 = 6\n",
        "dy_dx.numpy()\n",
        "# essa função mostra na tela o valor calculado"
      ],
      "execution_count": null,
      "outputs": []
    },
    {
      "cell_type": "code",
      "metadata": {
        "id": "6G2mvKXyN4Mn",
        "colab_type": "code",
        "colab": {}
      },
      "source": [
        "# Números aleatórios de media 3 e desvio padrão 2\n",
        "w = tf.Variable(tf.random.normal((3, 2)), name='w') \n",
        "b = tf.Variable(tf.zeros(2, dtype=tf.float32), name='b')\n",
        "x = [[1., 2., 3.]]\n",
        "\n",
        "with tf.GradientTape(persistent=True) as tape:\n",
        "  y = x @ w + b\n",
        "  loss = tf.reduce_mean(y**2)"
      ],
      "execution_count": 18,
      "outputs": []
    },
    {
      "cell_type": "code",
      "metadata": {
        "id": "_AN6GKWuOmMt",
        "colab_type": "code",
        "colab": {}
      },
      "source": [
        "[dl_dw, dl_db] = tape.gradient(loss, [w, b])"
      ],
      "execution_count": 19,
      "outputs": []
    },
    {
      "cell_type": "code",
      "metadata": {
        "id": "nYwyzHq_Ot9X",
        "colab_type": "code",
        "colab": {}
      },
      "source": [
        "print(w.shape)\n",
        "print(dl_dw.shape)"
      ],
      "execution_count": null,
      "outputs": []
    },
    {
      "cell_type": "code",
      "metadata": {
        "id": "fTiNvw8vPOCa",
        "colab_type": "code",
        "colab": {}
      },
      "source": [
        "# O mesmoda linha 18, mas fazendo um dicionário de variáveis\n",
        "my_vars = {\n",
        "    'w': tf.Variable(tf.random.normal((3, 2)), name='w'),\n",
        "    'b': tf.Variable(tf.zeros(2, dtype=tf.float32), name='b')\n",
        "}\n",
        "\n",
        "grad = tape.gradient(loss, my_vars)\n",
        "grad['b']"
      ],
      "execution_count": 21,
      "outputs": []
    }
  ]
}