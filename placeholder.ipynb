{
  "nbformat": 4,
  "nbformat_minor": 0,
  "metadata": {
    "colab": {
      "name": "placeholder.ipynb",
      "provenance": [],
      "authorship_tag": "ABX9TyMeA93HvCk7gAup7pfHdcsM",
      "include_colab_link": true
    },
    "kernelspec": {
      "name": "python3",
      "display_name": "Python 3"
    }
  },
  "cells": [
    {
      "cell_type": "markdown",
      "metadata": {
        "id": "view-in-github",
        "colab_type": "text"
      },
      "source": [
        "<a href=\"https://colab.research.google.com/github/rondan100/Tensorflow/blob/master/placeholder.ipynb\" target=\"_parent\"><img src=\"https://colab.research.google.com/assets/colab-badge.svg\" alt=\"Open In Colab\"/></a>"
      ]
    },
    {
      "cell_type": "code",
      "metadata": {
        "id": "EM7zZuuedYHS",
        "colab_type": "code",
        "colab": {}
      },
      "source": [
        "import tensorflow as tf\n",
        "\n",
        "import numpy as np"
      ],
      "execution_count": 5,
      "outputs": []
    },
    {
      "cell_type": "code",
      "metadata": {
        "id": "gZflufQ9fskp",
        "colab_type": "code",
        "colab": {
          "base_uri": "https://localhost:8080/",
          "height": 34
        },
        "outputId": "7200339a-9bea-432c-ead9-5c074ab92937"
      },
      "source": [
        "with tf.compat.v1.Session() as sess:\n",
        "    \n",
        "    x1 = np.random.randn(4,8)\n",
        "    w1 = np.random.randn(8,2)\n",
        "    \n",
        "    x2 = np.random.randn(4,8)\n",
        "    w2 = np.random.randn(8,2)\n",
        "    \n",
        "    x3 = np.random.randn(4,8)\n",
        "    w3 = np.random.randn(8,2)\n",
        "    \n",
        "    x4 = np.random.randn(4,8)\n",
        "    w4 = np.random.randn(8,2)\n",
        "    \n",
        "    x5 = np.random.randn(4,8)\n",
        "    w5 = np.random.randn(8,2)\n",
        "    \n",
        "    lista_x = [x1, x2, x3, x4, x5]\n",
        "    lista_w = [w1, w2, w3, w4, w5]\n",
        "    lista_saida = []\n",
        "    \n",
        "    b = tf.compat.v1.random_normal((4,2),0,1)\n",
        "    \n",
        "    x = tf.compat.v1.placeholder(tf.float32, shape=(4,8))\n",
        "    w = tf.compat.v1.placeholder(tf.float32, shape=(8,2))\n",
        "    \n",
        "    operacao = tf.matmul(x, w) + b\n",
        "\n",
        "    maximo = tf.reduce_max(operacao)\n",
        "    \n",
        "    for i in range(5):\n",
        "        saida = sess.run(maximo, feed_dict={x: lista_x[i], w: lista_w[i]})\n",
        "        lista_saida.append(saida)\n",
        "    \n",
        "    print(lista_saida)"
      ],
      "execution_count": 12,
      "outputs": [
        {
          "output_type": "stream",
          "text": [
            "[3.3485312, 1.1450334, 3.43682, 4.5008554, 8.076327]\n"
          ],
          "name": "stdout"
        }
      ]
    }
  ]
}