{
  "nbformat": 4,
  "nbformat_minor": 0,
  "metadata": {
    "colab": {
      "name": "Resultados_intermediarios.ipynb",
      "provenance": [],
      "collapsed_sections": [],
      "authorship_tag": "ABX9TyMeA53/o+hK75jyJk3gzLcv",
      "include_colab_link": true
    },
    "kernelspec": {
      "name": "python3",
      "display_name": "Python 3"
    }
  },
  "cells": [
    {
      "cell_type": "markdown",
      "metadata": {
        "id": "view-in-github",
        "colab_type": "text"
      },
      "source": [
        "<a href=\"https://colab.research.google.com/github/rondan100/Tensorflow/blob/master/Resultados_intermediarios.ipynb\" target=\"_parent\"><img src=\"https://colab.research.google.com/assets/colab-badge.svg\" alt=\"Open In Colab\"/></a>"
      ]
    },
    {
      "cell_type": "markdown",
      "metadata": {
        "id": "yoXoV2ttZA8N",
        "colab_type": "text"
      },
      "source": [
        "Requisitar o gradiente de uma saída com espeito a valores intermediários computados dentro de tf.GradientTape"
      ]
    },
    {
      "cell_type": "code",
      "metadata": {
        "id": "OGQAhgLgZaSO",
        "colab_type": "code",
        "colab": {}
      },
      "source": [
        "import numpy as np\n",
        "import matplotlib.pyplot as plt\n",
        "\n",
        "import tensorflow as tf"
      ],
      "execution_count": 5,
      "outputs": []
    },
    {
      "cell_type": "code",
      "metadata": {
        "id": "gZ2hM_xkY1bD",
        "colab_type": "code",
        "colab": {}
      },
      "source": [
        "x = tf.constant(3.0)\n",
        "\n",
        "with tf.GradientTape() as tape:\n",
        "  tape.watch(x) # Monitora x\n",
        "  y = x * x\n",
        "  z = y * y\n",
        "\n",
        "# Use the tape to compute the gradient of z with respect to the\n",
        "# intermediate value y.\n",
        "# dz_dx = 2 * y, where y = x ** 2\n",
        "print(tape.gradient(z, y).numpy())\n",
        "\n",
        "# Ele quer derivar z em relação a y.\n",
        "# dz_dy = 2y\n",
        "# y = x**2\n",
        "# dz_dy = 2x**2 = 2*9 = 18\n",
        "# Ou seja, a variável x foi a monitorada e o cálculo foi em função de x\n",
        "# embora y não foi monitorada, mas foi intermediária em x."
      ],
      "execution_count": null,
      "outputs": []
    },
    {
      "cell_type": "code",
      "metadata": {
        "id": "I23ByMllbDc6",
        "colab_type": "code",
        "colab": {}
      },
      "source": [
        "x = tf.constant([1, 3.0])\n",
        "with tf.GradientTape(persistent=True) as tape:\n",
        "  tape.watch(x) # x é monitorada\n",
        "  y = x * x\n",
        "  z = y * y\n",
        "\n",
        "print(tape.gradient(z, x).numpy())  # 108.0 (4 * x**3 at x = 3)\n",
        "print(tape.gradient(y, x).numpy())  # 6.0 (2 * x)"
      ],
      "execution_count": null,
      "outputs": []
    },
    {
      "cell_type": "code",
      "metadata": {
        "id": "jV9ec0Z5cjVC",
        "colab_type": "code",
        "colab": {}
      },
      "source": [
        "del tape   # Drop the reference to the tape"
      ],
      "execution_count": 10,
      "outputs": []
    }
  ]
}