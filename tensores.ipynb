{
  "nbformat": 4,
  "nbformat_minor": 0,
  "metadata": {
    "colab": {
      "name": "tensores.ipynb",
      "provenance": [],
      "authorship_tag": "ABX9TyPUelmlCFfFRr2qmTuzyH8r",
      "include_colab_link": true
    },
    "kernelspec": {
      "name": "python3",
      "display_name": "Python 3"
    }
  },
  "cells": [
    {
      "cell_type": "markdown",
      "metadata": {
        "id": "view-in-github",
        "colab_type": "text"
      },
      "source": [
        "<a href=\"https://colab.research.google.com/github/rondan100/Tensorflow/blob/master/tensores.ipynb\" target=\"_parent\"><img src=\"https://colab.research.google.com/assets/colab-badge.svg\" alt=\"Open In Colab\"/></a>"
      ]
    },
    {
      "cell_type": "code",
      "metadata": {
        "id": "jGLqhbNICzmG",
        "colab_type": "code",
        "colab": {}
      },
      "source": [
        "import tensorflow as tf"
      ],
      "execution_count": 1,
      "outputs": []
    },
    {
      "cell_type": "code",
      "metadata": {
        "id": "_r7PQpsCDbJe",
        "colab_type": "code",
        "colab": {}
      },
      "source": [
        "with tf.compat.v1.Session() as sess:\n",
        "\n",
        "  a = tf.constant(2)\n",
        "  b = tf.constant([3,1,5,8,6])\n",
        "  c = tf.constant([[2,0,4],[3,5,7]])\n",
        "\n",
        "#sess = tf.compat.v1.Session()\n",
        "  saida = sess.run(c)\n",
        "  sess.close()\n"
      ],
      "execution_count": 9,
      "outputs": []
    }
  ]
}