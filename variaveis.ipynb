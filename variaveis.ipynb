{
  "nbformat": 4,
  "nbformat_minor": 0,
  "metadata": {
    "colab": {
      "name": "variaveis.ipynb",
      "provenance": [],
      "authorship_tag": "ABX9TyOiZ5gROaqMchecYc8ZtiFc",
      "include_colab_link": true
    },
    "kernelspec": {
      "name": "python3",
      "display_name": "Python 3"
    }
  },
  "cells": [
    {
      "cell_type": "markdown",
      "metadata": {
        "id": "view-in-github",
        "colab_type": "text"
      },
      "source": [
        "<a href=\"https://colab.research.google.com/github/rondan100/Tensorflow/blob/master/variaveis.ipynb\" target=\"_parent\"><img src=\"https://colab.research.google.com/assets/colab-badge.svg\" alt=\"Open In Colab\"/></a>"
      ]
    },
    {
      "cell_type": "markdown",
      "metadata": {
        "id": "edPpWtmJPRnq",
        "colab_type": "text"
      },
      "source": [
        "tf.compat.v1.disable_eager_execution()\n",
        "esse comando "
      ]
    },
    {
      "cell_type": "code",
      "metadata": {
        "id": "uF8qL8guPJiN",
        "colab_type": "code",
        "colab": {
          "base_uri": "https://localhost:8080/",
          "height": 54
        },
        "outputId": "2e2354cb-0e65-4028-ee3b-bcc09475a0f6"
      },
      "source": [
        "import tensorflow as tf\n",
        "tf.version"
      ],
      "execution_count": 31,
      "outputs": [
        {
          "output_type": "execute_result",
          "data": {
            "text/plain": [
              "<module 'tensorflow._api.v2.version' from '/usr/local/lib/python3.6/dist-packages/tensorflow/_api/v2/version/__init__.py'>"
            ]
          },
          "metadata": {
            "tags": []
          },
          "execution_count": 31
        }
      ]
    },
    {
      "cell_type": "code",
      "metadata": {
        "id": "WESRj34veyPW",
        "colab_type": "code",
        "colab": {
          "base_uri": "https://localhost:8080/",
          "height": 34
        },
        "outputId": "fee5eae7-d445-4a26-a5e8-4412e1650e22"
      },
      "source": [
        "my_tensor = tf.constant([[1.0, 2.0], [3.0, 4.0]])\n",
        "my_variable = tf.Variable(my_tensor)\n",
        "\n",
        "# Variables can be all kinds of types, just like tensors\n",
        "bool_variable = tf.Variable([False, False, False, True])\n",
        "complex_variable = tf.Variable([5 + 4j, 6 + 1j])"
      ],
      "execution_count": 49,
      "outputs": [
        {
          "output_type": "stream",
          "text": [
            "Tensor(\"Const_10:0\", shape=(2, 2), dtype=float32)\n"
          ],
          "name": "stdout"
        }
      ]
    },
    {
      "cell_type": "markdown",
      "metadata": {
        "id": "5qtQrjocm0NR",
        "colab_type": "text"
      },
      "source": [
        ".shape: tamanho da matriz\n",
        ".dtype: tipo da variavel\n",
        ".numpy: método de contorno"
      ]
    },
    {
      "cell_type": "code",
      "metadata": {
        "id": "j8Gh3B30jS2q",
        "colab_type": "code",
        "colab": {
          "base_uri": "https://localhost:8080/",
          "height": 88
        },
        "outputId": "2b7744c5-4b4a-4b0c-b45a-e9a0039d89d7"
      },
      "source": [
        "print(\"Shape: \",my_variable.shape)\n",
        "print(\"DType: \",my_variable.dtype)\n",
        "print(\"As NumPy: \", my_variable.numpy)"
      ],
      "execution_count": 34,
      "outputs": [
        {
          "output_type": "stream",
          "text": [
            "Shape:  (2, 2)\n",
            "DType:  <dtype: 'float32'>\n",
            "As NumPy:  <bound method BaseResourceVariable.numpy of <tf.Variable 'Variable_12:0' shape=(2, 2) dtype=float32>>\n"
          ],
          "name": "stdout"
        }
      ]
    },
    {
      "cell_type": "code",
      "metadata": {
        "id": "bBf_SKKTlZzv",
        "colab_type": "code",
        "colab": {
          "base_uri": "https://localhost:8080/",
          "height": 136
        },
        "outputId": "18b1e02a-09de-4246-ebc8-6c143bad552d"
      },
      "source": [
        "print(\"A variable:\",my_variable)\n",
        "print(\"\\nViewed as a tensor:\", tf.convert_to_tensor(my_variable))\n",
        "print(\"\\nIndex of highest value:\", tf.argmax(my_variable))\n",
        "print(\"\\nCopying and reshaping: \", tf.reshape(my_variable, ([1,4])))"
      ],
      "execution_count": 48,
      "outputs": [
        {
          "output_type": "stream",
          "text": [
            "A variable: <tf.Variable 'Variable_33:0' shape=(2, 2) dtype=float32>\n",
            "\n",
            "Viewed as a tensor: Tensor(\"ReadVariableOp_3:0\", shape=(2, 2), dtype=float32)\n",
            "\n",
            "Index of highest value: Tensor(\"ArgMax_1:0\", shape=(2,), dtype=int64)\n",
            "\n",
            "Copying and reshaping:  Tensor(\"Reshape:0\", shape=(1, 4), dtype=float32)\n"
          ],
          "name": "stdout"
        }
      ]
    },
    {
      "cell_type": "code",
      "metadata": {
        "id": "2XMLUSv4mhcF",
        "colab_type": "code",
        "colab": {
          "base_uri": "https://localhost:8080/",
          "height": 34
        },
        "outputId": "b2a447b4-74c2-4d4b-c281-ca6062204a25"
      },
      "source": [
        "print(my_variable)"
      ],
      "execution_count": 51,
      "outputs": [
        {
          "output_type": "stream",
          "text": [
            "<tf.Variable 'Variable_36:0' shape=(2, 2) dtype=float32>\n"
          ],
          "name": "stdout"
        }
      ]
    }
  ]
}