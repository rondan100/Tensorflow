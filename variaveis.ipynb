{
  "nbformat": 4,
  "nbformat_minor": 0,
  "metadata": {
    "colab": {
      "name": "variaveis.ipynb",
      "provenance": [],
      "collapsed_sections": [],
      "authorship_tag": "ABX9TyOdSqEwg/JsNLhBv0iMpEB8",
      "include_colab_link": true
    },
    "kernelspec": {
      "name": "python3",
      "display_name": "Python 3"
    }
  },
  "cells": [
    {
      "cell_type": "markdown",
      "metadata": {
        "id": "view-in-github",
        "colab_type": "text"
      },
      "source": [
        "<a href=\"https://colab.research.google.com/github/rondan100/Tensorflow/blob/master/variaveis.ipynb\" target=\"_parent\"><img src=\"https://colab.research.google.com/assets/colab-badge.svg\" alt=\"Open In Colab\"/></a>"
      ]
    },
    {
      "cell_type": "code",
      "metadata": {
        "id": "uF8qL8guPJiN",
        "colab_type": "code",
        "colab": {}
      },
      "source": [
        "import tensorflow as tf\n",
        "tf.version"
      ],
      "execution_count": null,
      "outputs": []
    },
    {
      "cell_type": "code",
      "metadata": {
        "id": "WESRj34veyPW",
        "colab_type": "code",
        "colab": {}
      },
      "source": [
        "my_tensor = tf.constant([[1.0, 2.0], [3.0, 4.0]])\n",
        "my_variable = tf.Variable(my_tensor)\n",
        "\n",
        "# Variables can be all kinds of types, just like tensors\n",
        "bool_variable = tf.Variable([False, False, False, True])\n",
        "complex_variable = tf.Variable([5 + 4j, 6 + 1j])"
      ],
      "execution_count": null,
      "outputs": []
    },
    {
      "cell_type": "code",
      "metadata": {
        "id": "j8Gh3B30jS2q",
        "colab_type": "code",
        "colab": {}
      },
      "source": [
        "# .shape: tamanho da matriz\n",
        "# .dtype: tipo da variavel\n",
        "# .numpy: método de contorno\n",
        "\n",
        "print(\"Shape: \",my_variable.shape)\n",
        "print(\"DType: \",my_variable.dtype)\n",
        "print(\"As NumPy: \", my_variable.numpy)"
      ],
      "execution_count": null,
      "outputs": []
    },
    {
      "cell_type": "code",
      "metadata": {
        "id": "bBf_SKKTlZzv",
        "colab_type": "code",
        "colab": {}
      },
      "source": [
        "print(\"A variable:\",my_variable) # vista como array\n",
        "print(\"\\nViewed as a tensor:\", tf.convert_to_tensor(my_variable)) # vista como tensor\n",
        "print(\"\\nIndex of highest value:\", tf.argmax(my_variable)) \n",
        "# retorna o índice onde está o maior valor [0 é padrão\n",
        "# inicial] (no caso 2 e 4 são os maiores valores, \n",
        "# q correspondem às posições [1 1])\n",
        "print(\"\\nCopying and reshaping: \", tf.reshape(my_variable, ([1,4]))) \n",
        "# retorna o msm tensor modificado \n",
        "# (no caso, 1 linha 4 colunas)"
      ],
      "execution_count": null,
      "outputs": []
    },
    {
      "cell_type": "code",
      "metadata": {
        "id": "2XMLUSv4mhcF",
        "colab_type": "code",
        "colab": {}
      },
      "source": [
        "a = tf.Variable([2., 3.])\n",
        "# This will keep the same dtype, float32\n",
        "a.assign([1, 2]) \n",
        "# assign substitui os valores utilizando a msm memoria do tensor \n",
        "# ou seja, posso trocar um valor float para um valor em int (substituindo o\n",
        "# tipo int para float), mas não possof fazer o inverso, já q a memória de um int\n",
        "# não é suficiente para suportar o tamanho de um float.\n",
        "\n",
        "# Not allowed as it resizes the variable: \n",
        "try:\n",
        "  a.assign([1., 2., 3.])\n",
        "# aqui, o código irá pular essa etapa já q existem\n",
        "# apenas 2 espaços na memoria, enquanto q esse \n",
        "# comando quer trocar por 3.\n",
        "# como mostra o resultado:\n",
        "# ValueError: Shapes (2,) and (3,) are incompatible\n",
        "\n",
        "except Exception as e:\n",
        "  print(f\"{type(e).__name__}: {e}\")\n",
        "\n",
        "#print(a)"
      ],
      "execution_count": null,
      "outputs": []
    },
    {
      "cell_type": "code",
      "metadata": {
        "id": "eDLOV9cun4Qz",
        "colab_type": "code",
        "colab": {}
      },
      "source": [
        "a = tf.Variable([2.0, 3.0])\n",
        "# Create b based on the value of a\n",
        "b = tf.Variable(a)\n",
        "a.assign([5, 6])\n",
        "\n",
        "# a and b are different\n",
        "print(a.numpy()) # [5., 6.]\n",
        "print(b.numpy()) # [2., 3.]\n",
        "\n",
        "# There are other versions of assign\n",
        "print(a.assign_add([2,3]).numpy())  # [7. 9.] = [5., 6.] + [2,3]\n",
        "print(a.assign_sub([7,9]).numpy())  # [0. 0.] = [7., 9.] - [7,9]"
      ],
      "execution_count": null,
      "outputs": []
    },
    {
      "cell_type": "code",
      "metadata": {
        "id": "t65imWnzpfze",
        "colab_type": "code",
        "colab": {}
      },
      "source": [
        ""
      ],
      "execution_count": null,
      "outputs": []
    }
  ]
}