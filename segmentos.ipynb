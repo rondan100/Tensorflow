{
  "nbformat": 4,
  "nbformat_minor": 0,
  "metadata": {
    "colab": {
      "name": "segmentos.ipynb",
      "provenance": [],
      "collapsed_sections": [],
      "authorship_tag": "ABX9TyOewZilncp0uAsmFzJZ/Loe",
      "include_colab_link": true
    },
    "kernelspec": {
      "name": "python3",
      "display_name": "Python 3"
    }
  },
  "cells": [
    {
      "cell_type": "markdown",
      "metadata": {
        "id": "view-in-github",
        "colab_type": "text"
      },
      "source": [
        "<a href=\"https://colab.research.google.com/github/rondan100/Tensorflow/blob/master/segmentos.ipynb\" target=\"_parent\"><img src=\"https://colab.research.google.com/assets/colab-badge.svg\" alt=\"Open In Colab\"/></a>"
      ]
    },
    {
      "cell_type": "markdown",
      "metadata": {
        "id": "U8d0Kk8k68He",
        "colab_type": "text"
      },
      "source": [
        "# Módulo tf.math"
      ]
    },
    {
      "cell_type": "code",
      "metadata": {
        "id": "vXswo9wa7SaY",
        "colab_type": "code",
        "colab": {}
      },
      "source": [
        "import tensorflow as tf"
      ],
      "execution_count": 2,
      "outputs": []
    },
    {
      "cell_type": "markdown",
      "metadata": {
        "id": "1BaJzLoZ7glt",
        "colab_type": "text"
      },
      "source": [
        "Inserindo uma matrix"
      ]
    },
    {
      "cell_type": "code",
      "metadata": {
        "id": "6XAxRu6gtcmI",
        "colab_type": "code",
        "colab": {
          "base_uri": "https://localhost:8080/",
          "height": 85
        },
        "outputId": "54954637-62a2-401d-8363-aa48058dd950"
      },
      "source": [
        "c = tf.constant([[1,2,3,4], [-1,-2,-3,-4], [5,6,7,8]])\n",
        "print(c)"
      ],
      "execution_count": 3,
      "outputs": [
        {
          "output_type": "stream",
          "text": [
            "tf.Tensor(\n",
            "[[ 1  2  3  4]\n",
            " [-1 -2 -3 -4]\n",
            " [ 5  6  7  8]], shape=(3, 4), dtype=int32)\n"
          ],
          "name": "stdout"
        }
      ]
    },
    {
      "cell_type": "code",
      "metadata": {
        "id": "9FIHZ_jh7vsK",
        "colab_type": "code",
        "colab": {
          "base_uri": "https://localhost:8080/",
          "height": 68
        },
        "outputId": "41805581-c10f-4093-9dbc-3ba9ecc81caf"
      },
      "source": [
        "tf.math.segment_sum(c, tf.constant([0, 0, 1]))"
      ],
      "execution_count": 4,
      "outputs": [
        {
          "output_type": "execute_result",
          "data": {
            "text/plain": [
              "<tf.Tensor: shape=(2, 4), dtype=int32, numpy=\n",
              "array([[0, 0, 0, 0],\n",
              "       [5, 6, 7, 8]], dtype=int32)>"
            ]
          },
          "metadata": {
            "tags": []
          },
          "execution_count": 4
        }
      ]
    },
    {
      "cell_type": "code",
      "metadata": {
        "id": "S_AYiuVT_KQ6",
        "colab_type": "code",
        "colab": {
          "base_uri": "https://localhost:8080/",
          "height": 68
        },
        "outputId": "557ec4e4-574e-456c-cdf3-66a28b10837b"
      },
      "source": [
        "tf.math.unsorted_segment_sum(c, tf.constant([0, 1, 0]), num_segments=2)"
      ],
      "execution_count": 9,
      "outputs": [
        {
          "output_type": "execute_result",
          "data": {
            "text/plain": [
              "<tf.Tensor: shape=(2, 4), dtype=int32, numpy=\n",
              "array([[ 6,  8, 10, 12],\n",
              "       [-1, -2, -3, -4]], dtype=int32)>"
            ]
          },
          "metadata": {
            "tags": []
          },
          "execution_count": 9
        }
      ]
    }
  ]
}