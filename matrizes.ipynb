{
  "nbformat": 4,
  "nbformat_minor": 0,
  "metadata": {
    "colab": {
      "name": "matrizes.ipynb",
      "provenance": [],
      "collapsed_sections": [],
      "authorship_tag": "ABX9TyNrF5A9lNYS23M2oPeq/MG1",
      "include_colab_link": true
    },
    "kernelspec": {
      "name": "python3",
      "display_name": "Python 3"
    }
  },
  "cells": [
    {
      "cell_type": "markdown",
      "metadata": {
        "id": "view-in-github",
        "colab_type": "text"
      },
      "source": [
        "<a href=\"https://colab.research.google.com/github/rondan100/Tensorflow/blob/master/matrizes.ipynb\" target=\"_parent\"><img src=\"https://colab.research.google.com/assets/colab-badge.svg\" alt=\"Open In Colab\"/></a>"
      ]
    },
    {
      "cell_type": "code",
      "metadata": {
        "id": "6k89C2tBJdlB",
        "colab_type": "code",
        "colab": {}
      },
      "source": [
        "import tensorflow as tf"
      ],
      "execution_count": 1,
      "outputs": []
    },
    {
      "cell_type": "code",
      "metadata": {
        "id": "8AJaztJQJgkj",
        "colab_type": "code",
        "colab": {
          "base_uri": "https://localhost:8080/",
          "height": 51
        },
        "outputId": "5ffce783-2b88-48a4-82c7-f2ed83dfae11"
      },
      "source": [
        "with tf.compat.v1.Session() as sess:\n",
        "  A = tf.constant([[1,2,3],[4,5,6]])\n",
        "  B = tf.constant([[0,0],[1,0],[0,1]])\n",
        "  resultado = tf.matmul(A,B)\n",
        "  print(sess.run(resultado))\n",
        "  sess.close()"
      ],
      "execution_count": 16,
      "outputs": [
        {
          "output_type": "stream",
          "text": [
            "[[2 3]\n",
            " [5 6]]\n"
          ],
          "name": "stdout"
        }
      ]
    }
  ]
}